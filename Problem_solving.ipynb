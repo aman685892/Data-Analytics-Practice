{
  "nbformat": 4,
  "nbformat_minor": 0,
  "metadata": {
    "colab": {
      "provenance": [],
      "authorship_tag": "ABX9TyO5zLHnnnGEdxHUTQ4HX2IM",
      "include_colab_link": true
    },
    "kernelspec": {
      "name": "python3",
      "display_name": "Python 3"
    },
    "language_info": {
      "name": "python"
    }
  },
  "cells": [
    {
      "cell_type": "markdown",
      "metadata": {
        "id": "view-in-github",
        "colab_type": "text"
      },
      "source": [
        "<a href=\"https://colab.research.google.com/github/aman685892/Data-Analytics-Practice/blob/main/Problem_solving.ipynb\" target=\"_parent\"><img src=\"https://colab.research.google.com/assets/colab-badge.svg\" alt=\"Open In Colab\"/></a>"
      ]
    },
    {
      "cell_type": "code",
      "execution_count": null,
      "metadata": {
        "id": "IFzwpZ9Pg17M"
      },
      "outputs": [],
      "source": []
    },
    {
      "cell_type": "markdown",
      "source": [
        "**Write a Program to display a persons name, age, address in three different lines**"
      ],
      "metadata": {
        "id": "inBbWsFviKIK"
      }
    },
    {
      "cell_type": "code",
      "source": [
        "name=\"aman\"\n",
        "age=21\n",
        "address=\"delhi\"\n",
        "print(name)\n",
        "print(age)\n",
        "print(address)"
      ],
      "metadata": {
        "colab": {
          "base_uri": "https://localhost:8080/"
        },
        "id": "oRHfdeXsiWk9",
        "outputId": "0752f488-bb41-4661-d1b3-81232ddb3d4f"
      },
      "execution_count": null,
      "outputs": [
        {
          "output_type": "stream",
          "name": "stdout",
          "text": [
            "aman\n",
            "21\n",
            "delhi\n"
          ]
        }
      ]
    },
    {
      "cell_type": "code",
      "source": [],
      "metadata": {
        "id": "qnHmbvnXjKqD"
      },
      "execution_count": null,
      "outputs": []
    },
    {
      "cell_type": "markdown",
      "source": [
        "**Write a program to swap two variables**"
      ],
      "metadata": {
        "id": "Y3s6qwbQjQCA"
      }
    },
    {
      "cell_type": "code",
      "source": [
        "# Method 1\n",
        "x=12\n",
        "y=13\n",
        "temp=x\n",
        "x=y\n",
        "y=temp\n",
        "print(x,y)"
      ],
      "metadata": {
        "colab": {
          "base_uri": "https://localhost:8080/"
        },
        "id": "CqDctn5rjVhL",
        "outputId": "6e521c35-08bb-4140-d910-e8c2a2073545"
      },
      "execution_count": null,
      "outputs": [
        {
          "output_type": "stream",
          "name": "stdout",
          "text": [
            "13 12\n"
          ]
        }
      ]
    },
    {
      "cell_type": "code",
      "source": [],
      "metadata": {
        "id": "ovoBX80ukPAH"
      },
      "execution_count": null,
      "outputs": []
    },
    {
      "cell_type": "markdown",
      "source": [
        "**Method-2**"
      ],
      "metadata": {
        "id": "i6PNa2Tu272U"
      }
    },
    {
      "cell_type": "code",
      "source": [
        "a=45\n",
        "b=78\n",
        "a,b=b,a\n",
        "print(a,b)"
      ],
      "metadata": {
        "colab": {
          "base_uri": "https://localhost:8080/"
        },
        "id": "w5fxMZkR3EJL",
        "outputId": "4cd436f4-2d50-406b-e0b8-8a9c3a4ad13a"
      },
      "execution_count": 1,
      "outputs": [
        {
          "output_type": "stream",
          "name": "stdout",
          "text": [
            "78 45\n"
          ]
        }
      ]
    },
    {
      "cell_type": "code",
      "source": [
        "# Write a program to convert float into integer\n",
        "\n",
        "x=12.8\n",
        "print(type(x))\n",
        "x=int(x)\n",
        "print(x)\n",
        "print(type(x))"
      ],
      "metadata": {
        "colab": {
          "base_uri": "https://localhost:8080/"
        },
        "id": "pzA6egnl3atJ",
        "outputId": "570e6775-803a-4c67-c42b-5ab8d5ba1c0f"
      },
      "execution_count": 4,
      "outputs": [
        {
          "output_type": "stream",
          "name": "stdout",
          "text": [
            "<class 'float'>\n",
            "12\n",
            "<class 'int'>\n"
          ]
        }
      ]
    },
    {
      "cell_type": "code",
      "source": [
        "#Write a program to take  a details from student for id-card then print it in different lines\n",
        "print(\"Student ID card:\")\n",
        "name=input(\"Enter your name:\")\n",
        "age=int(input(\"Enter your age:\"))\n",
        "grade=input(\"Enter your grade:\")\n",
        "phone=int(input(\"Enter your phone:\"))\n",
        "print(name)\n",
        "print(age)\n",
        "print(grade)\n",
        "print(phone)"
      ],
      "metadata": {
        "colab": {
          "base_uri": "https://localhost:8080/"
        },
        "id": "9FVC22125Ire",
        "outputId": "2404b031-b90f-442a-ad20-14f388dfbb4e"
      },
      "execution_count": 5,
      "outputs": [
        {
          "output_type": "stream",
          "name": "stdout",
          "text": [
            "Student ID card:\n",
            "Enter your name:aman\n",
            "Enter your age:22\n",
            "Enter your grade:Bachelors\n",
            "Enter your phone:9122768970\n",
            "aman\n",
            "22\n",
            "Bachelors\n",
            "9122768970\n"
          ]
        }
      ]
    },
    {
      "cell_type": "code",
      "source": [
        "# write a program to take input from user as integer and then convert it into float\n",
        "z=int(input(\"Enter the number:\") )\n",
        "z=float(z)\n",
        "print(z)"
      ],
      "metadata": {
        "colab": {
          "base_uri": "https://localhost:8080/"
        },
        "id": "p-DH9fAD7qF4",
        "outputId": "96145b4a-25db-4d8e-92e4-432b685e45a9"
      },
      "execution_count": 9,
      "outputs": [
        {
          "output_type": "stream",
          "name": "stdout",
          "text": [
            "Enter the number:56\n",
            "56.0\n"
          ]
        }
      ]
    },
    {
      "cell_type": "code",
      "source": [],
      "metadata": {
        "id": "eu4nrsdu_3Ax"
      },
      "execution_count": null,
      "outputs": []
    }
  ]
}