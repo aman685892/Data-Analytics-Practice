{
  "nbformat": 4,
  "nbformat_minor": 0,
  "metadata": {
    "colab": {
      "provenance": [],
      "authorship_tag": "ABX9TyOa1Xh3OoFlCsmTpSpGJ4FK",
      "include_colab_link": true
    },
    "kernelspec": {
      "name": "python3",
      "display_name": "Python 3"
    },
    "language_info": {
      "name": "python"
    }
  },
  "cells": [
    {
      "cell_type": "markdown",
      "metadata": {
        "id": "view-in-github",
        "colab_type": "text"
      },
      "source": [
        "<a href=\"https://colab.research.google.com/github/aman685892/Data-Analytics-Practice/blob/main/comments_in_python.ipynb\" target=\"_parent\"><img src=\"https://colab.research.google.com/assets/colab-badge.svg\" alt=\"Open In Colab\"/></a>"
      ]
    },
    {
      "cell_type": "code",
      "execution_count": 1,
      "metadata": {
        "id": "__-EmPVeWQzD"
      },
      "outputs": [],
      "source": [
        "# I am learning data analyst"
      ]
    },
    {
      "cell_type": "markdown",
      "source": [
        "**Multi-Line comments**"
      ],
      "metadata": {
        "id": "pIOS_BJrWv_B"
      }
    },
    {
      "cell_type": "code",
      "source": [
        "\"\"\" are you also studying data analytics\n",
        "i think its so amazing to learn\n",
        "it\"\"\""
      ],
      "metadata": {
        "colab": {
          "base_uri": "https://localhost:8080/",
          "height": 35
        },
        "id": "usRS2fW3Wz_D",
        "outputId": "c21c5cd5-abc5-4cbe-c414-fd146eb8bc39"
      },
      "execution_count": 4,
      "outputs": [
        {
          "output_type": "execute_result",
          "data": {
            "text/plain": [
              "' are you also studying data analytics\\ni think its so amazing to learn \\nit'"
            ],
            "application/vnd.google.colaboratory.intrinsic+json": {
              "type": "string"
            }
          },
          "metadata": {},
          "execution_count": 4
        }
      ]
    },
    {
      "cell_type": "code",
      "source": [],
      "metadata": {
        "id": "UK67hn1GXGbf"
      },
      "execution_count": null,
      "outputs": []
    }
  ]
}